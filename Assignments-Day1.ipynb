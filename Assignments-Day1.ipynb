{
 "cells": [
  {
   "cell_type": "code",
   "execution_count": 22,
   "id": "cec0d747",
   "metadata": {},
   "outputs": [
    {
     "name": "stdout",
     "output_type": "stream",
     "text": [
      "Enter your weight in kgs: 80\n",
      "Enter your height in meters: 170\n",
      "Your BMI is:  0.002768166089965398\n"
     ]
    }
   ],
   "source": [
    "weight = int(input(\"Enter your weight in kgs: \"))\n",
    "height = int(input(\"Enter your height in meters: \"))\n",
    "BMI = weight/(height**2)\n",
    "print(\"Your BMI is: \",BMI)"
   ]
  },
  {
   "cell_type": "code",
   "execution_count": 1,
   "id": "d04eec81",
   "metadata": {},
   "outputs": [
    {
     "name": "stdout",
     "output_type": "stream",
     "text": [
      "Enter your name: namaste\n",
      "nbmbste\n"
     ]
    }
   ],
   "source": [
    "input1 = input(\"Enter your name: \")\n",
    "rep_input = input1.replace(\"a\",\"b\")\n",
    "print(rep_input)"
   ]
  },
  {
   "cell_type": "code",
   "execution_count": 3,
   "id": "6ae6d9f3",
   "metadata": {},
   "outputs": [
    {
     "name": "stdout",
     "output_type": "stream",
     "text": [
      "Enter Principal Amount: 100\n",
      "Enter the rate of interest: 10\n",
      "The expected total amount after 2 years:  121\n"
     ]
    }
   ],
   "source": [
    "principal = int(input(\"Enter Principal Amount: \"))\n",
    "interest = float(input(\"Enter the rate of interest: \"))\n",
    "total_amount = principal * (1+(interest/100)) * (1+(interest/100))\n",
    "print(\"The expected total amount after 2 years: \",int(total_amount))"
   ]
  },
  {
   "cell_type": "code",
   "execution_count": 5,
   "id": "4a9194b0",
   "metadata": {},
   "outputs": [
    {
     "name": "stdout",
     "output_type": "stream",
     "text": [
      "Enter City Namebengaluru\n",
      "Bengaluru\n"
     ]
    }
   ],
   "source": [
    "city = input(\"Enter City Name: \")\n",
    "print(city[0].upper()+city[1:])"
   ]
  },
  {
   "cell_type": "code",
   "execution_count": 9,
   "id": "636d1143",
   "metadata": {},
   "outputs": [
    {
     "name": "stdout",
     "output_type": "stream",
     "text": [
      "Enter your name: kamat\n",
      "1\n"
     ]
    }
   ],
   "source": [
    "input1 = input(\"Enter your name: \")\n",
    "index_input = input1.find(\"a\")\n",
    "print(index_input)"
   ]
  },
  {
   "cell_type": "code",
   "execution_count": 10,
   "id": "4ba65f6c",
   "metadata": {},
   "outputs": [
    {
     "name": "stdout",
     "output_type": "stream",
     "text": [
      "Number of letters in the string is:  28\n"
     ]
    }
   ],
   "source": [
    "my_word = \"antidisestablishmentarianism\"\n",
    "print(\"Number of letters in the string is: \",len(my_word))"
   ]
  },
  {
   "cell_type": "code",
   "execution_count": 12,
   "id": "f05023cc",
   "metadata": {},
   "outputs": [
    {
     "name": "stdout",
     "output_type": "stream",
     "text": [
      "Enter First Name: mohit\n",
      "Enter Last Name: sharma\n",
      "Enter Age: 32\n",
      "my name is  Mohit  Sharma  and I am  32  years old\n"
     ]
    }
   ],
   "source": [
    "first=input(\"Enter First Name: \")\n",
    "last=input(\"Enter Last Name: \")\n",
    "age=input(\"Enter Age: \")\n",
    "print(\"my name is \",first[0].upper()+first[1:]+\" \",last[0].upper()+last[1:]+\" \",\"and I am \",age+\" \",\"years old.\")"
   ]
  },
  {
   "cell_type": "code",
   "execution_count": 14,
   "id": "4cbe69d3",
   "metadata": {},
   "outputs": [
    {
     "name": "stdout",
     "output_type": "stream",
     "text": [
      "Enter First Name: MOhit\n",
      "Enter Last Name: sharma\n",
      "Enter Company Name: infosys\n",
      "Email id is:  morma@infosys.com\n"
     ]
    }
   ],
   "source": [
    "first=input(\"Enter First Name: \")\n",
    "last=input(\"Enter Last Name: \")\n",
    "company=input(\"Enter Company Name: \")\n",
    "email=first[0:2]+last[-3:]+\"@\"+company+\".com\"\n",
    "print(\"Email id is: \",email.lower())"
   ]
  }
 ],
 "metadata": {
  "kernelspec": {
   "display_name": "Python 3 (ipykernel)",
   "language": "python",
   "name": "python3"
  },
  "language_info": {
   "codemirror_mode": {
    "name": "ipython",
    "version": 3
   },
   "file_extension": ".py",
   "mimetype": "text/x-python",
   "name": "python",
   "nbconvert_exporter": "python",
   "pygments_lexer": "ipython3",
   "version": "3.9.12"
  }
 },
 "nbformat": 4,
 "nbformat_minor": 5
}
